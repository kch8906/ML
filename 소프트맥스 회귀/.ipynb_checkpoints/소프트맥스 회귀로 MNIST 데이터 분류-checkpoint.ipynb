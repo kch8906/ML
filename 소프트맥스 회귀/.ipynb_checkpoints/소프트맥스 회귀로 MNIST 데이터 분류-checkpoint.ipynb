{
 "cells": [
  {
   "cell_type": "code",
   "execution_count": 20,
   "id": "c08898ad",
   "metadata": {},
   "outputs": [],
   "source": [
    "import torch\n",
    "import torchvision.datasets as dsets\n",
    "import torchvision.transforms as transforms\n",
    "from torch.utils.data import DataLoader\n",
    "import torch.nn as nn\n",
    "import matplotlib.pyplot as plt\n",
    "import random"
   ]
  },
  {
   "cell_type": "code",
   "execution_count": 3,
   "id": "0aefe2ca",
   "metadata": {},
   "outputs": [
    {
     "name": "stdout",
     "output_type": "stream",
     "text": [
      "다음 기기로 학습합니다: cuda\n"
     ]
    }
   ],
   "source": [
    "USE_CUDA = torch.cuda.is_available() # GPU를 사용가능하면 True, 아니라면 False를 리턴\n",
    "device = torch.device(\"cuda\" if USE_CUDA else \"cpu\") # GPU 사용 가능하면 사용하고 아니면 CPU 사용\n",
    "print(\"다음 기기로 학습합니다:\", device)"
   ]
  },
  {
   "cell_type": "code",
   "execution_count": 5,
   "id": "6cbebc9b",
   "metadata": {},
   "outputs": [],
   "source": [
    "random.seed(777)\n",
    "torch.manual_seed(777)\n",
    "if device == 'cuda':\n",
    "    torch.cuda.manual_seed_all(777)"
   ]
  },
  {
   "cell_type": "code",
   "execution_count": 6,
   "id": "b525c2ec",
   "metadata": {},
   "outputs": [],
   "source": [
    "training_epochs = 15\n",
    "batch_size = 100"
   ]
  },
  {
   "cell_type": "code",
   "execution_count": 10,
   "id": "5c2949dd",
   "metadata": {},
   "outputs": [],
   "source": [
    "# MNIST DATA Dataset\n",
    "mnist_train = dsets.MNIST(root='MNIST_data/', # 다운받을 경로\n",
    "                          train=True, # True면 train data / False 면 Test data\n",
    "                          transform=transforms.ToTensor(), # 현재 데이터를 파이토치 텐서로 변환\n",
    "                          download=True) # 해당경로에 MNIST 데이터가 없으면 다운\n",
    "\n",
    "mnist_test = dsets.MNIST(root='MNIST_data/',\n",
    "                         train=False,\n",
    "                         transform=transforms.ToTensor(),\n",
    "                         download=True)"
   ]
  },
  {
   "cell_type": "code",
   "execution_count": 11,
   "id": "e726ec98",
   "metadata": {},
   "outputs": [],
   "source": [
    "data_loader = DataLoader(dataset=mnist_train, # 로드할 대상\n",
    "                         batch_size=batch_size, # 배치 크기\n",
    "                         shuffle=True, # 매 EPOCH마다 미니 배치를 셔플할 것인지 여부\n",
    "                         drop_last=True) # 마지막 배치를 버릴 것인지를 의미"
   ]
  },
  {
   "cell_type": "code",
   "execution_count": 12,
   "id": "fed72783",
   "metadata": {},
   "outputs": [],
   "source": [
    "# MNIST data imange of shape 28 * 28 = 784\n",
    "# input_dim = 784, output_dim = 10\n",
    "linear = nn.Linear(784, 10, bias=True).to(device)\n",
    "# to() 함수는 모델의 매개변수를 지정한 장치의 메모리로 보냄, 아무것도 지정하지 않을경우 cpu연산"
   ]
  },
  {
   "cell_type": "code",
   "execution_count": 15,
   "id": "cf6550cf",
   "metadata": {},
   "outputs": [],
   "source": [
    "# 비용 함수와 Optimizer 정의\n",
    "criterion = nn.CrossEntropyLoss().to(device) # 내부적으로 소프트맥스 함수를 포함\n",
    "optimizer = torch.optim.SGD(linear.parameters(), lr=0.1)"
   ]
  },
  {
   "cell_type": "code",
   "execution_count": 16,
   "id": "aed1b72c",
   "metadata": {},
   "outputs": [
    {
     "name": "stdout",
     "output_type": "stream",
     "text": [
      "Epoch: 0001 cost = 0.535701573\n",
      "Epoch: 0002 cost = 0.359403133\n",
      "Epoch: 0003 cost = 0.331129968\n",
      "Epoch: 0004 cost = 0.316610843\n",
      "Epoch: 0005 cost = 0.307287782\n",
      "Epoch: 0006 cost = 0.300151169\n",
      "Epoch: 0007 cost = 0.295128852\n",
      "Epoch: 0008 cost = 0.290526181\n",
      "Epoch: 0009 cost = 0.287431449\n",
      "Epoch: 0010 cost = 0.284428835\n",
      "Epoch: 0011 cost = 0.281726092\n",
      "Epoch: 0012 cost = 0.279582173\n",
      "Epoch: 0013 cost = 0.277621865\n",
      "Epoch: 0014 cost = 0.275999963\n",
      "Epoch: 0015 cost = 0.274319798\n",
      "Learning finished\n"
     ]
    }
   ],
   "source": [
    "for epoch in range(training_epochs):\n",
    "    avg_cost=0\n",
    "    total_batch = len(data_loader)\n",
    "    \n",
    "    for X, Y in data_loader:\n",
    "        # 배치 크기가 100이므로 아래 연산에서 X는 (100, 784)의 텐서가 된다.\n",
    "        X = X.view(-1, 28 * 28).to(device)\n",
    "        # label은 one-hot incoding이 된 상태가 아니라 0 ~ 9의 정수\n",
    "        Y = Y.to(device)\n",
    "        \n",
    "        optimizer.zero_grad()\n",
    "        hypothesis = linear(X)\n",
    "        cost = criterion(hypothesis, Y)\n",
    "        cost.backward()\n",
    "        optimizer.step()\n",
    "        \n",
    "        avg_cost += cost / total_batch\n",
    "\n",
    "    print('Epoch:', '%04d' % (epoch + 1), 'cost =', '{:.9f}'.format(avg_cost))\n",
    "\n",
    "print('Learning finished')"
   ]
  },
  {
   "cell_type": "code",
   "execution_count": 24,
   "id": "cce32ece",
   "metadata": {},
   "outputs": [
    {
     "name": "stdout",
     "output_type": "stream",
     "text": [
      "Accuracy: 0.8833000063896179\n",
      "Label: 5\n",
      "Prediction: 5\n"
     ]
    },
    {
     "data": {
      "image/png": "[encoded data removed]",
      "text/plain": [
       "<Figure size 432x288 with 1 Axes>"
      ]
     },
     "metadata": {
      "needs_background": "light"
     },
     "output_type": "display_data"
    }
   ],
   "source": [
    "# 테스트 데이터를 사용하여 모델을 테스트\n",
    "with torch.no_grad(): # torch.no_grad()는 gradiend 계산을 수행하지 않는다.\n",
    "    X_test = mnist_test.test_data.view(-1, 28 * 28).float().to(device)\n",
    "    Y_test = mnist_test.test_labels.to(device)\n",
    "    \n",
    "    prediction = linear(X_test)\n",
    "    correct_prediction = torch.argmax(prediction, 1) == Y_test\n",
    "    accuracy = correct_prediction.float().mean()\n",
    "    print('Accuracy:', accuracy.item())\n",
    "    \n",
    "    # MNIST 테스트 데이터에서 무작위로 하나를 뽑아서 예측\n",
    "    r = random.randint(0, len(mnist_test) - 1)\n",
    "    X_single_data = mnist_test.test_data[r:r + 1].view(-1, 28 * 28).float().to(device)\n",
    "    Y_single_data = mnist_test.test_labels[r:r + 1].to(device)\n",
    "    \n",
    "    print('Label:', Y_single_data.item())\n",
    "    single_prediction = linear(X_single_data)\n",
    "    print('Prediction:', torch.argmax(single_prediction, 1).item())\n",
    "    \n",
    "    plt.imshow(mnist_test.test_data[r:r + 1].view(28, 28), cmap='Greys', interpolation='nearest')\n",
    "    plt.show()"
   ]
  }
 ],
 "metadata": {
  "kernelspec": {
   "display_name": "Python 3 (ipykernel)",
   "language": "python",
   "name": "python3"
  },
  "language_info": {
   "codemirror_mode": {
    "name": "ipython",
    "version": 3
   },
   "file_extension": ".py",
   "mimetype": "text/x-python",
   "name": "python",
   "nbconvert_exporter": "python",
   "pygments_lexer": "ipython3",
   "version": "3.9.7"
  }
 },
 "nbformat": 4,
 "nbformat_minor": 5
}
