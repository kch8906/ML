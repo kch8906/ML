{
 "cells": [
  {
   "cell_type": "code",
   "execution_count": 1,
   "id": "27310c29",
   "metadata": {},
   "outputs": [],
   "source": [
    "import torch\n",
    "import torch.nn as nn\n",
    "import torch.nn.functional as F\n",
    "import torch.optim as optim"
   ]
  },
  {
   "cell_type": "code",
   "execution_count": 2,
   "id": "210192e0",
   "metadata": {},
   "outputs": [
    {
     "data": {
      "text/plain": [
       "<torch._C.Generator at 0x18682c70bb0>"
      ]
     },
     "execution_count": 2,
     "metadata": {},
     "output_type": "execute_result"
    }
   ],
   "source": [
    "torch.manual_seed(1)"
   ]
  },
  {
   "cell_type": "code",
   "execution_count": 3,
   "id": "19908a4d",
   "metadata": {},
   "outputs": [],
   "source": [
    "x_data = [[1, 2], [2, 3], [3, 1], [4, 3], [5, 3], [6, 2]]\n",
    "y_data = [[0], [0], [0], [1], [1], [1]]\n",
    "x_train = torch.FloatTensor(x_data)\n",
    "y_train = torch.FloatTensor(y_data)"
   ]
  },
  {
   "cell_type": "code",
   "execution_count": 4,
   "id": "b4b2cdb8",
   "metadata": {},
   "outputs": [],
   "source": [
    "model = nn.Sequential(nn.Linear(2,1),\n",
    "                      nn.Sigmoid())"
   ]
  },
  {
   "cell_type": "code",
   "execution_count": 5,
   "id": "ed4d5d6d",
   "metadata": {},
   "outputs": [
    {
     "data": {
      "text/plain": [
       "tensor([[0.4020],\n",
       "        [0.4147],\n",
       "        [0.6556],\n",
       "        [0.5948],\n",
       "        [0.6788],\n",
       "        [0.8061]], grad_fn=<SigmoidBackward0>)"
      ]
     },
     "execution_count": 5,
     "metadata": {},
     "output_type": "execute_result"
    }
   ],
   "source": [
    "model(x_train)"
   ]
  },
  {
   "cell_type": "code",
   "execution_count": 9,
   "id": "c309eda2",
   "metadata": {},
   "outputs": [
    {
     "name": "stdout",
     "output_type": "stream",
     "text": [
      "Epoch    0/1000 Cost 0.527002 Accuracy 83.33\n",
      "Epoch   10/1000 Cost 0.994597 Accuracy 66.67\n",
      "Epoch   20/1000 Cost 0.570399 Accuracy 83.33\n",
      "Epoch   30/1000 Cost 0.473909 Accuracy 83.33\n",
      "Epoch   40/1000 Cost 0.388606 Accuracy 83.33\n",
      "Epoch   50/1000 Cost 0.307901 Accuracy 83.33\n",
      "Epoch   60/1000 Cost 0.235923 Accuracy 83.33\n",
      "Epoch   70/1000 Cost 0.182916 Accuracy 100.00\n",
      "Epoch   80/1000 Cost 0.155795 Accuracy 100.00\n",
      "Epoch   90/1000 Cost 0.143031 Accuracy 100.00\n",
      "Epoch  100/1000 Cost 0.133369 Accuracy 100.00\n",
      "Epoch  110/1000 Cost 0.124978 Accuracy 100.00\n",
      "Epoch  120/1000 Cost 0.117600 Accuracy 100.00\n",
      "Epoch  130/1000 Cost 0.111060 Accuracy 100.00\n",
      "Epoch  140/1000 Cost 0.105223 Accuracy 100.00\n",
      "Epoch  150/1000 Cost 0.099983 Accuracy 100.00\n",
      "Epoch  160/1000 Cost 0.095251 Accuracy 100.00\n",
      "Epoch  170/1000 Cost 0.090958 Accuracy 100.00\n",
      "Epoch  180/1000 Cost 0.087044 Accuracy 100.00\n",
      "Epoch  190/1000 Cost 0.083461 Accuracy 100.00\n",
      "Epoch  200/1000 Cost 0.080169 Accuracy 100.00\n",
      "Epoch  210/1000 Cost 0.077132 Accuracy 100.00\n",
      "Epoch  220/1000 Cost 0.074323 Accuracy 100.00\n",
      "Epoch  230/1000 Cost 0.071717 Accuracy 100.00\n",
      "Epoch  240/1000 Cost 0.069291 Accuracy 100.00\n",
      "Epoch  250/1000 Cost 0.067029 Accuracy 100.00\n",
      "Epoch  260/1000 Cost 0.064912 Accuracy 100.00\n",
      "Epoch  270/1000 Cost 0.062929 Accuracy 100.00\n",
      "Epoch  280/1000 Cost 0.061066 Accuracy 100.00\n",
      "Epoch  290/1000 Cost 0.059312 Accuracy 100.00\n",
      "Epoch  300/1000 Cost 0.057659 Accuracy 100.00\n",
      "Epoch  310/1000 Cost 0.056098 Accuracy 100.00\n",
      "Epoch  320/1000 Cost 0.054620 Accuracy 100.00\n",
      "Epoch  330/1000 Cost 0.053220 Accuracy 100.00\n",
      "Epoch  340/1000 Cost 0.051892 Accuracy 100.00\n",
      "Epoch  350/1000 Cost 0.050630 Accuracy 100.00\n",
      "Epoch  360/1000 Cost 0.049428 Accuracy 100.00\n",
      "Epoch  370/1000 Cost 0.048284 Accuracy 100.00\n",
      "Epoch  380/1000 Cost 0.047193 Accuracy 100.00\n",
      "Epoch  390/1000 Cost 0.046150 Accuracy 100.00\n",
      "Epoch  400/1000 Cost 0.045154 Accuracy 100.00\n",
      "Epoch  410/1000 Cost 0.044200 Accuracy 100.00\n",
      "Epoch  420/1000 Cost 0.043287 Accuracy 100.00\n",
      "Epoch  430/1000 Cost 0.042411 Accuracy 100.00\n",
      "Epoch  440/1000 Cost 0.041571 Accuracy 100.00\n",
      "Epoch  450/1000 Cost 0.040764 Accuracy 100.00\n",
      "Epoch  460/1000 Cost 0.039988 Accuracy 100.00\n",
      "Epoch  470/1000 Cost 0.039241 Accuracy 100.00\n",
      "Epoch  480/1000 Cost 0.038523 Accuracy 100.00\n",
      "Epoch  490/1000 Cost 0.037830 Accuracy 100.00\n",
      "Epoch  500/1000 Cost 0.037163 Accuracy 100.00\n",
      "Epoch  510/1000 Cost 0.036519 Accuracy 100.00\n",
      "Epoch  520/1000 Cost 0.035897 Accuracy 100.00\n",
      "Epoch  530/1000 Cost 0.035296 Accuracy 100.00\n",
      "Epoch  540/1000 Cost 0.034716 Accuracy 100.00\n",
      "Epoch  550/1000 Cost 0.034154 Accuracy 100.00\n",
      "Epoch  560/1000 Cost 0.033611 Accuracy 100.00\n",
      "Epoch  570/1000 Cost 0.033085 Accuracy 100.00\n",
      "Epoch  580/1000 Cost 0.032575 Accuracy 100.00\n",
      "Epoch  590/1000 Cost 0.032081 Accuracy 100.00\n",
      "Epoch  600/1000 Cost 0.031602 Accuracy 100.00\n",
      "Epoch  610/1000 Cost 0.031137 Accuracy 100.00\n",
      "Epoch  620/1000 Cost 0.030686 Accuracy 100.00\n",
      "Epoch  630/1000 Cost 0.030248 Accuracy 100.00\n",
      "Epoch  640/1000 Cost 0.029822 Accuracy 100.00\n",
      "Epoch  650/1000 Cost 0.029408 Accuracy 100.00\n",
      "Epoch  660/1000 Cost 0.029006 Accuracy 100.00\n",
      "Epoch  670/1000 Cost 0.028615 Accuracy 100.00\n",
      "Epoch  680/1000 Cost 0.028234 Accuracy 100.00\n",
      "Epoch  690/1000 Cost 0.027864 Accuracy 100.00\n",
      "Epoch  700/1000 Cost 0.027503 Accuracy 100.00\n",
      "Epoch  710/1000 Cost 0.027151 Accuracy 100.00\n",
      "Epoch  720/1000 Cost 0.026808 Accuracy 100.00\n",
      "Epoch  730/1000 Cost 0.026474 Accuracy 100.00\n",
      "Epoch  740/1000 Cost 0.026149 Accuracy 100.00\n",
      "Epoch  750/1000 Cost 0.025831 Accuracy 100.00\n",
      "Epoch  760/1000 Cost 0.025521 Accuracy 100.00\n",
      "Epoch  770/1000 Cost 0.025218 Accuracy 100.00\n",
      "Epoch  780/1000 Cost 0.024923 Accuracy 100.00\n",
      "Epoch  790/1000 Cost 0.024635 Accuracy 100.00\n",
      "Epoch  800/1000 Cost 0.024353 Accuracy 100.00\n",
      "Epoch  810/1000 Cost 0.024077 Accuracy 100.00\n",
      "Epoch  820/1000 Cost 0.023808 Accuracy 100.00\n",
      "Epoch  830/1000 Cost 0.023545 Accuracy 100.00\n",
      "Epoch  840/1000 Cost 0.023287 Accuracy 100.00\n",
      "Epoch  850/1000 Cost 0.023036 Accuracy 100.00\n",
      "Epoch  860/1000 Cost 0.022789 Accuracy 100.00\n",
      "Epoch  870/1000 Cost 0.022548 Accuracy 100.00\n",
      "Epoch  880/1000 Cost 0.022312 Accuracy 100.00\n",
      "Epoch  890/1000 Cost 0.022081 Accuracy 100.00\n",
      "Epoch  900/1000 Cost 0.021855 Accuracy 100.00\n",
      "Epoch  910/1000 Cost 0.021633 Accuracy 100.00\n",
      "Epoch  920/1000 Cost 0.021416 Accuracy 100.00\n",
      "Epoch  930/1000 Cost 0.021203 Accuracy 100.00\n",
      "Epoch  940/1000 Cost 0.020994 Accuracy 100.00\n",
      "Epoch  950/1000 Cost 0.020790 Accuracy 100.00\n",
      "Epoch  960/1000 Cost 0.020589 Accuracy 100.00\n",
      "Epoch  970/1000 Cost 0.020393 Accuracy 100.00\n",
      "Epoch  980/1000 Cost 0.020200 Accuracy 100.00\n",
      "Epoch  990/1000 Cost 0.020010 Accuracy 100.00\n",
      "Epoch 1000/1000 Cost 0.019825 Accuracy 100.00\n"
     ]
    }
   ],
   "source": [
    "optimizer = optim.SGD(model.parameters(), lr=1)\n",
    "\n",
    "nb_epochs = 1000\n",
    "for epoch in range(nb_epochs + 1):\n",
    "    hypothesis = model(x_train)\n",
    "    cost = F.binary_cross_entropy(hypothesis, y_train)\n",
    "    \n",
    "    optimizer.zero_grad()\n",
    "    cost.backward()\n",
    "    optimizer.step()\n",
    "    \n",
    "    if epoch % 10 == 0:\n",
    "        prediction = hypothesis >= torch.FloatTensor([0.5])\n",
    "        correct_prediction = prediction.float() == y_train\n",
    "        accuracy = correct_prediction.sum().item() / len(correct_prediction)\n",
    "        print('Epoch {:4d}/{} Cost {:.6f} Accuracy {:2.2f}'.format(epoch, nb_epochs,cost.item(),accuracy * 100 ))"
   ]
  },
  {
   "cell_type": "code",
   "execution_count": 10,
   "id": "7bf93b35",
   "metadata": {},
   "outputs": [
    {
     "data": {
      "text/plain": [
       "tensor([[2.7553e-04],\n",
       "        [3.1567e-02],\n",
       "        [3.8923e-02],\n",
       "        [9.5627e-01],\n",
       "        [9.9824e-01],\n",
       "        [9.9969e-01]], grad_fn=<SigmoidBackward0>)"
      ]
     },
     "execution_count": 10,
     "metadata": {},
     "output_type": "execute_result"
    }
   ],
   "source": [
    "model(x_train)"
   ]
  },
  {
   "cell_type": "code",
   "execution_count": 11,
   "id": "81bf6ff0",
   "metadata": {},
   "outputs": [
    {
     "name": "stdout",
     "output_type": "stream",
     "text": [
      "[Parameter containing:\n",
      "tensor([[3.2543, 1.5186]], requires_grad=True), Parameter containing:\n",
      "tensor([-14.4881], requires_grad=True)]\n"
     ]
    }
   ],
   "source": [
    "print(list(model.parameters()))"
   ]
  },
  {
   "cell_type": "code",
   "execution_count": null,
   "id": "ce32b93f",
   "metadata": {},
   "outputs": [],
   "source": []
  }
 ],
 "metadata": {
  "kernelspec": {
   "display_name": "Python 3 (ipykernel)",
   "language": "python",
   "name": "python3"
  },
  "language_info": {
   "codemirror_mode": {
    "name": "ipython",
    "version": 3
   },
   "file_extension": ".py",
   "mimetype": "text/x-python",
   "name": "python",
   "nbconvert_exporter": "python",
   "pygments_lexer": "ipython3",
   "version": "3.9.7"
  }
 },
 "nbformat": 4,
 "nbformat_minor": 5
}
