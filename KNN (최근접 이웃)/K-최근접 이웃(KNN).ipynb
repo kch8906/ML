{
 "cells": [
  {
   "cell_type": "markdown",
   "id": "93b7cadc",
   "metadata": {},
   "source": [
    "### K-NN 알고리즘"
   ]
  },
  {
   "cell_type": "code",
   "execution_count": 22,
   "id": "3e7a45df",
   "metadata": {},
   "outputs": [],
   "source": [
    "import matplotlib.pyplot as plt\n",
    "from sklearn.neighbors import KNeighborsClassifier"
   ]
  },
  {
   "cell_type": "code",
   "execution_count": 9,
   "id": "81ee46b4",
   "metadata": {},
   "outputs": [],
   "source": [
    "bream_length = [25.4, 26.3, 26.5, 29.0, 29.0, 29.7, 29.7, 30.0, 30.0, 30.7, 31.0, 31.0, 31.5, 32.0, 32.0, 32.0, 33.0, 33.0, 33.5, 33.5, 34.0, 34.0, 34.5, 35.0, 35.0, 35.0, 35.0, 36.0, 36.0, 37.0, 38.5, 38.5, 39.5, 41.0, 41.0]\n",
    "bream_weight = [242.0, 290.0, 340.0, 363.0, 430.0, 450.0, 500.0, 390.0, 450.0, 500.0, 475.0, 500.0, 500.0, 340.0, 600.0, 600.0, 700.0, 700.0, 610.0, 650.0, 575.0, 685.0, 620.0, 680.0, 700.0, 725.0, 720.0, 714.0, 850.0, 1000.0, 920.0, 955.0, 925.0, 975.0, 950.0]\n",
    "smelt_length = [9.8, 10.5, 10.6, 11.0, 11.2, 11.3, 11.8, 11.8, 12.0, 12.2, 12.4, 13.0, 14.3, 15.0]\n",
    "smelt_weight = [6.7, 7.5, 7.0, 9.7, 9.8, 8.7, 10.0, 9.9, 9.8, 12.2, 13.4, 12.2, 19.7, 19.9]\n"
   ]
  },
  {
   "cell_type": "code",
   "execution_count": 10,
   "id": "d094631e",
   "metadata": {},
   "outputs": [
    {
     "data": {
      "image/png": "[encoded data removed]",
      "text/plain": [
       "<Figure size 432x288 with 1 Axes>"
      ]
     },
     "metadata": {
      "needs_background": "light"
     },
     "output_type": "display_data"
    }
   ],
   "source": [
    "plt.scatter(bream_length, bream_weight)\n",
    "plt.scatter(smelt_length, smelt_weight)\n",
    "plt.xlabel('length')\n",
    "plt.ylabel('weight')\n",
    "plt.show()"
   ]
  },
  {
   "cell_type": "code",
   "execution_count": 11,
   "id": "035432ca",
   "metadata": {},
   "outputs": [],
   "source": [
    "length = bream_length + smelt_length\n",
    "weight = bream_weight + smelt_weight"
   ]
  },
  {
   "cell_type": "code",
   "execution_count": 17,
   "id": "321c34c8",
   "metadata": {},
   "outputs": [],
   "source": [
    "# zip 함수는 나열된 리스트 각각에서 원소를 하나씩 꺼내 반환\n",
    "fish_data = [[l, w] for l, w in zip(length, weight)]"
   ]
  },
  {
   "cell_type": "code",
   "execution_count": 20,
   "id": "428aa4d9",
   "metadata": {},
   "outputs": [],
   "source": [
    "# 정답 데이터 도미 = 1, 빙어 = 0\n",
    "fish_target = [1] * 35 + [0] * 14"
   ]
  },
  {
   "cell_type": "code",
   "execution_count": 24,
   "id": "485075f7",
   "metadata": {},
   "outputs": [],
   "source": [
    "# 해당 클래스의 객체 생성\n",
    "kn = KNeighborsClassifier()"
   ]
  },
  {
   "cell_type": "code",
   "execution_count": 26,
   "id": "f09c76e0",
   "metadata": {},
   "outputs": [
    {
     "name": "stdout",
     "output_type": "stream",
     "text": [
      "1.0\n"
     ]
    }
   ],
   "source": [
    "# socre 함수는 0 ~ 1 사이의 값을 반환하며 1 = 모든데이터 정답, 0.5 = 절반의 데이터 정답\n",
    "kn.fit(fish_data, fish_target)\n",
    "print(kn.score(fish_data, fish_target))"
   ]
  },
  {
   "cell_type": "code",
   "execution_count": 28,
   "id": "e3b054e1",
   "metadata": {},
   "outputs": [
    {
     "name": "stdout",
     "output_type": "stream",
     "text": [
      "0.7142857142857143\n"
     ]
    }
   ],
   "source": [
    "# 어떤 데이터를 넣어도 도미로 예측하기 때문에 35/48 = 0.7142.... 라는 결과가 나옴\n",
    "kn = KNeighborsClassifier(n_neighbors=49)\n",
    "kn.fit(fish_data, fish_target)\n",
    "print(kn.score(fish_data, fish_target))"
   ]
  },
  {
   "cell_type": "markdown",
   "id": "7c57a3c5",
   "metadata": {},
   "source": [
    "### K-NN 알고리즘 실습 (훈련 셋과 데이터 셋 분리)"
   ]
  },
  {
   "cell_type": "code",
   "execution_count": 29,
   "id": "4e907603",
   "metadata": {},
   "outputs": [],
   "source": [
    "import numpy as np\n",
    "\n",
    "input_arr = np.array(fish_data)\n",
    "target_arr = np.array(fish_target)"
   ]
  },
  {
   "cell_type": "code",
   "execution_count": 33,
   "id": "d20ae947",
   "metadata": {},
   "outputs": [],
   "source": [
    "np.random.seed(42)\n",
    "index = np.arange(49)\n",
    "np.random.shuffle(index)\n",
    "\n",
    "train_input = input_arr[index[:35]]\n",
    "train_target = target_arr[index[:35]]\n",
    "test_input = input_arr[index[35:]]\n",
    "test_target = target_arr[index[35:]]"
   ]
  },
  {
   "cell_type": "code",
   "execution_count": 78,
   "id": "7701425c",
   "metadata": {},
   "outputs": [
    {
     "name": "stdout",
     "output_type": "stream",
     "text": [
      "1.0\n",
      "[0 0 1 0 1 1 1 0 1 1 0 1 1 0]\n",
      "[0 0 1 0 1 1 1 0 1 1 0 1 1 0]\n"
     ]
    }
   ],
   "source": [
    "kn = KNeighborsClassifier(n_neighbors=5)\n",
    "kn.fit(train_input, train_target)\n",
    "print(kn.score(test_input, test_target))\n",
    "\n",
    "print(kn.predict(test_input))\n",
    "print(test_target)"
   ]
  },
  {
   "cell_type": "code",
   "execution_count": 79,
   "id": "4fb6706c",
   "metadata": {},
   "outputs": [
    {
     "name": "stdout",
     "output_type": "stream",
     "text": [
      "[0]\n"
     ]
    }
   ],
   "source": [
    "print(kn.predict([[25.0, 150.0]])) #도미의 샘플이지만 빙어로 예측"
   ]
  },
  {
   "cell_type": "code",
   "execution_count": 82,
   "id": "108a47b2",
   "metadata": {},
   "outputs": [
    {
     "data": {
      "image/png": "[encoded data removed]",
      "text/plain": [
       "<Figure size 432x288 with 1 Axes>"
      ]
     },
     "metadata": {
      "needs_background": "light"
     },
     "output_type": "display_data"
    }
   ],
   "source": [
    "# k 근처 값이 1개 제외 나머지 4개가 빙어라서 빙어로 예측\n",
    "distances, indexes = kn.kneighbors([[25, 150]])\n",
    "\n",
    "plt.scatter(train_input[:,0], train_input[:,1])\n",
    "plt.scatter(25, 150, marker='^')\n",
    "plt.scatter(train_input[indexes, 0], train_input[indexes, 1], marker='D')\n",
    "plt.xlabel('length')\n",
    "plt.ylabel('weight')\n",
    "plt.show()"
   ]
  },
  {
   "cell_type": "code",
   "execution_count": 83,
   "id": "8a229c57",
   "metadata": {},
   "outputs": [
    {
     "name": "stdout",
     "output_type": "stream",
     "text": [
      "[[ 92.00086956 130.73859415 137.17988191 138.32150953 138.39320793]]\n"
     ]
    }
   ],
   "source": [
    "# 거리 출력\n",
    "print(distances) # 92... = 도미, 130... = 빙어\n",
    "# 거리가 이상한 이유는 x축의 범위는 좁고 y축의 범위는 넓기 때문"
   ]
  },
  {
   "cell_type": "code",
   "execution_count": 85,
   "id": "064fbd3c",
   "metadata": {},
   "outputs": [
    {
     "data": {
      "image/png": "[encoded data removed]",
      "text/plain": [
       "<Figure size 432x288 with 1 Axes>"
      ]
     },
     "metadata": {
      "needs_background": "light"
     },
     "output_type": "display_data"
    }
   ],
   "source": [
    "plt.scatter(train_input[:,0], train_input[:,1])\n",
    "plt.scatter(25, 150, marker='^')\n",
    "plt.scatter(train_input[indexes, 0], train_input[indexes, 1], marker='D')\n",
    "plt.xlim((0, 1000)) # x축 범위 조절\n",
    "plt.xlabel('length')\n",
    "plt.ylabel('weight')\n",
    "plt.show()"
   ]
  },
  {
   "cell_type": "markdown",
   "id": "8f86d63a",
   "metadata": {},
   "source": [
    "##### \n",
    "- 실제로 x는 거리에 영향을 거의 미치지 않는다\n",
    "- 두 특성의 값의 범위 매우 다른 경우를 두 특성의 스케일(scale)이 다르다고 말한다"
   ]
  },
  {
   "cell_type": "markdown",
   "id": "2d75348b",
   "metadata": {},
   "source": [
    "##### K-NN과 같이 거리 기반 알고리즘을 사용할 땐 기준이 다르면 알고리즘이 올바르게 예측 할 수 없다. 따라서 일정한 기준으로 맞추는 작업을 데이터 전처리(Data Preprocessing)라고 한다\n",
    "\n",
    "- 최소-최대 정규화(min-max normalization)\n",
    "- z-score 표준화(z-score standardization)"
   ]
  },
  {
   "cell_type": "markdown",
   "id": "66bfa4fe",
   "metadata": {},
   "source": [
    "### 1. 최소-최대 정규화\n",
    "변수 X의 범위를 0%에서 100%까지로 나타내는 방식"
   ]
  },
  {
   "cell_type": "markdown",
   "id": "3aeb960e",
   "metadata": {},
   "source": [
    "$$X_{new} = \\frac{X - min(X)}{max(x)-min(X)}$$"
   ]
  },
  {
   "cell_type": "markdown",
   "id": "d8d66029",
   "metadata": {},
   "source": [
    "### 2. z-score 표준화\n",
    "변수 X의 범위를 평균으로부터 몇 표준편차만큼 떨어져 있는지를 관점으로 변수를 확대/축소 시키는 방식\n",
    "\n",
    "- 분산 : 데이터에서 평균을 뺀 값을 모두 제곱한 다음 평균을 낸 것\n",
    "- 표준편차 : 분산의 제곱근"
   ]
  },
  {
   "cell_type": "markdown",
   "id": "7d181170",
   "metadata": {},
   "source": [
    "$$X_{new} = \\frac{X - mean(X)}{StdDev(X)}$$"
   ]
  },
  {
   "cell_type": "markdown",
   "id": "23a8e2aa",
   "metadata": {},
   "source": [
    "- 두 방식중 z-점수 표준화를 많이 사용\n",
    "- 최소-최대 정규화는 테스트 셋의 최소/최대가 범위를 벗어나는 경우가 생길 수 있기 대문"
   ]
  },
  {
   "cell_type": "code",
   "execution_count": 87,
   "id": "93c44272",
   "metadata": {},
   "outputs": [
    {
     "name": "stdout",
     "output_type": "stream",
     "text": [
      "[ 28.29428571 483.35714286] [  9.54606704 323.47456715]\n"
     ]
    }
   ],
   "source": [
    "mean = np.mean(train_input, axis=0)\n",
    "std = np.std(train_input, axis=0)\n",
    "print(mean, std)\n",
    "\n",
    "train_scaled = (train_input - mean) / std"
   ]
  },
  {
   "cell_type": "code",
   "execution_count": 92,
   "id": "945f5424",
   "metadata": {},
   "outputs": [
    {
     "data": {
      "image/png": "[encoded data removed]",
      "text/plain": [
       "<Figure size 432x288 with 1 Axes>"
      ]
     },
     "metadata": {
      "needs_background": "light"
     },
     "output_type": "display_data"
    }
   ],
   "source": [
    "new = ([25, 150] - mean) / std\n",
    "\n",
    "plt.scatter(train_scaled[:,0], train_scaled[:,1])\n",
    "plt.scatter(new[0], new[1], marker='^')\n",
    "plt.title('Range is same x and y')\n",
    "plt.xlabel('length')\n",
    "plt.ylabel('weight')\n",
    "plt.show()"
   ]
  },
  {
   "cell_type": "code",
   "execution_count": 89,
   "id": "3b30154c",
   "metadata": {},
   "outputs": [
    {
     "name": "stdout",
     "output_type": "stream",
     "text": [
      "[1]\n"
     ]
    }
   ],
   "source": [
    "kn.fit(train_scaled, train_target)\n",
    "test_scaled = (test_input - mean) / std\n",
    "\n",
    "kn.score(test_scaled, test_target)\n",
    "print(kn.predict([new]))"
   ]
  },
  {
   "cell_type": "code",
   "execution_count": 102,
   "id": "e7905730",
   "metadata": {},
   "outputs": [
    {
     "data": {
      "image/png": "[encoded data removed]",
      "text/plain": [
       "<Figure size 432x288 with 1 Axes>"
      ]
     },
     "metadata": {
      "needs_background": "light"
     },
     "output_type": "display_data"
    }
   ],
   "source": [
    "distances, indexes = kn.kneighbors([new])\n",
    "\n",
    "plt.scatter(train_scaled[:,0], train_scaled[:,1])\n",
    "plt.scatter(new[0], new[1], marker='^')\n",
    "plt.scatter(train_scaled[indexes, 0], train_scaled[indexes, 1], marker='D')\n",
    "plt.xlabel('length')\n",
    "plt.ylabel('weight')\n",
    "plt.show()"
   ]
  }
 ],
 "metadata": {
  "kernelspec": {
   "display_name": "Python 3 (ipykernel)",
   "language": "python",
   "name": "python3"
  },
  "language_info": {
   "codemirror_mode": {
    "name": "ipython",
    "version": 3
   },
   "file_extension": ".py",
   "mimetype": "text/x-python",
   "name": "python",
   "nbconvert_exporter": "python",
   "pygments_lexer": "ipython3",
   "version": "3.9.7"
  }
 },
 "nbformat": 4,
 "nbformat_minor": 5
}
