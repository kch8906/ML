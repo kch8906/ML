{
 "cells": [
  {
   "cell_type": "markdown",
   "id": "6b638019",
   "metadata": {},
   "source": [
    "### 모델을 클래스로 구현"
   ]
  },
  {
   "cell_type": "code",
   "execution_count": 1,
   "id": "33be6286",
   "metadata": {},
   "outputs": [],
   "source": [
    "import torch\n",
    "import torch.nn as nn\n",
    "import torch.nn.functional as F"
   ]
  },
  {
   "cell_type": "code",
   "execution_count": 2,
   "id": "44322a02",
   "metadata": {},
   "outputs": [
    {
     "data": {
      "text/plain": [
       "<torch._C.Generator at 0x1e5df364bb0>"
      ]
     },
     "execution_count": 2,
     "metadata": {},
     "output_type": "execute_result"
    }
   ],
   "source": [
    "torch.manual_seed(1)"
   ]
  },
  {
   "cell_type": "code",
   "execution_count": 9,
   "id": "c92b1828",
   "metadata": {},
   "outputs": [],
   "source": [
    "x_train = torch.FloatTensor([[1], [2], [3]])\n",
    "y_train = torch.FloatTensor([[2], [4], [6]])"
   ]
  },
  {
   "cell_type": "code",
   "execution_count": 10,
   "id": "800b9100",
   "metadata": {},
   "outputs": [],
   "source": [
    "class LinearRegressionModel(nn.Module):\n",
    "    def __init__(self):\n",
    "        super().__init__()\n",
    "        self.linear = nn.Linear(1, 1)\n",
    "        \n",
    "    def forward(self, x):\n",
    "        return self.linear(x)"
   ]
  },
  {
   "cell_type": "code",
   "execution_count": 11,
   "id": "114f7bb9",
   "metadata": {},
   "outputs": [],
   "source": [
    "model = LinearRegressionModel()"
   ]
  },
  {
   "cell_type": "code",
   "execution_count": 12,
   "id": "9b520e42",
   "metadata": {},
   "outputs": [],
   "source": [
    "optimizer = torch.optim.SGD(model.parameters(), lr=0.01)"
   ]
  },
  {
   "cell_type": "code",
   "execution_count": 14,
   "id": "51ac3336",
   "metadata": {},
   "outputs": [
    {
     "name": "stdout",
     "output_type": "stream",
     "text": [
      "Epoch    0/2000 Cost: 18.562185\n",
      "Epoch  100/2000 Cost: 0.128051\n",
      "Epoch  200/2000 Cost: 0.079128\n",
      "Epoch  300/2000 Cost: 0.048896\n",
      "Epoch  400/2000 Cost: 0.030215\n",
      "Epoch  500/2000 Cost: 0.018671\n",
      "Epoch  600/2000 Cost: 0.011538\n",
      "Epoch  700/2000 Cost: 0.007129\n",
      "Epoch  800/2000 Cost: 0.004406\n",
      "Epoch  900/2000 Cost: 0.002722\n",
      "Epoch 1000/2000 Cost: 0.001682\n",
      "Epoch 1100/2000 Cost: 0.001040\n",
      "Epoch 1200/2000 Cost: 0.000642\n",
      "Epoch 1300/2000 Cost: 0.000397\n",
      "Epoch 1400/2000 Cost: 0.000245\n",
      "Epoch 1500/2000 Cost: 0.000152\n",
      "Epoch 1600/2000 Cost: 0.000094\n",
      "Epoch 1700/2000 Cost: 0.000058\n",
      "Epoch 1800/2000 Cost: 0.000036\n",
      "Epoch 1900/2000 Cost: 0.000022\n",
      "Epoch 2000/2000 Cost: 0.000014\n"
     ]
    }
   ],
   "source": [
    "nb_epochs = 2000\n",
    "for epoch in range(nb_epochs + 1):\n",
    "    predition = model(x_train)\n",
    "    cost = F.mse_loss(predition, y_train)\n",
    "    \n",
    "    \n",
    "    optimizer.zero_grad()\n",
    "    cost.backward()\n",
    "    optimizer.step()\n",
    "    \n",
    "    if epoch % 100 == 0:\n",
    "        print('Epoch {:4d}/{} Cost: {:.6f}'.format(\n",
    "          epoch, nb_epochs, cost.item()\n",
    "      ))"
   ]
  },
  {
   "cell_type": "markdown",
   "id": "64e701b3",
   "metadata": {},
   "source": [
    "### 다중 선형 회귀 클래스로 구현하기"
   ]
  },
  {
   "cell_type": "code",
   "execution_count": 15,
   "id": "a3080a96",
   "metadata": {},
   "outputs": [],
   "source": [
    "import torch\n",
    "import torch.nn as nn\n",
    "import torch.nn.functional as F"
   ]
  },
  {
   "cell_type": "code",
   "execution_count": 16,
   "id": "0356bc0f",
   "metadata": {},
   "outputs": [],
   "source": [
    "x_train = torch.FloatTensor([[73, 80, 75],\n",
    "                             [93, 88, 93],\n",
    "                             [89, 91, 90],\n",
    "                             [96, 98, 100],\n",
    "                             [73, 66, 70]])\n",
    "y_train = torch.FloatTensor([[152], [185], [180], [196], [142]])"
   ]
  },
  {
   "cell_type": "code",
   "execution_count": 19,
   "id": "88ae78b3",
   "metadata": {},
   "outputs": [],
   "source": [
    "class MultivariateLinearRegressionModel(nn.Module):\n",
    "    def __init__(self):\n",
    "        super().__init__()\n",
    "        self.linear = nn.Linear(3, 1)\n",
    "        \n",
    "    def forward(self, x):\n",
    "        return self.linear(x)"
   ]
  },
  {
   "cell_type": "code",
   "execution_count": 20,
   "id": "39003258",
   "metadata": {},
   "outputs": [],
   "source": [
    "model = MultivariateLinearRegressionModel()\n",
    "optimizer = torch.optim.SGD(model.parameters(), lr=1e-5) "
   ]
  },
  {
   "cell_type": "code",
   "execution_count": 21,
   "id": "8936a801",
   "metadata": {},
   "outputs": [
    {
     "name": "stdout",
     "output_type": "stream",
     "text": [
      "Epoch    0/2000 Cost: 39633.414062\n",
      "Epoch  100/2000 Cost: 11.480746\n",
      "Epoch  200/2000 Cost: 10.894592\n",
      "Epoch  300/2000 Cost: 10.339335\n",
      "Epoch  400/2000 Cost: 9.813351\n",
      "Epoch  500/2000 Cost: 9.315010\n",
      "Epoch  600/2000 Cost: 8.842962\n",
      "Epoch  700/2000 Cost: 8.395753\n",
      "Epoch  800/2000 Cost: 7.972028\n",
      "Epoch  900/2000 Cost: 7.570637\n",
      "Epoch 1000/2000 Cost: 7.190376\n",
      "Epoch 1100/2000 Cost: 6.830142\n",
      "Epoch 1200/2000 Cost: 6.488811\n",
      "Epoch 1300/2000 Cost: 6.165472\n",
      "Epoch 1400/2000 Cost: 5.859105\n",
      "Epoch 1500/2000 Cost: 5.568909\n",
      "Epoch 1600/2000 Cost: 5.293931\n",
      "Epoch 1700/2000 Cost: 5.033408\n",
      "Epoch 1800/2000 Cost: 4.786575\n",
      "Epoch 1900/2000 Cost: 4.552718\n",
      "Epoch 2000/2000 Cost: 4.331151\n"
     ]
    }
   ],
   "source": [
    "nb_epochs = 2000\n",
    "for epoch in range(nb_epochs + 1):\n",
    "    predition = model(x_train)\n",
    "    cost = F.mse_loss(predition, y_train)\n",
    "    \n",
    "    \n",
    "    optimizer.zero_grad()\n",
    "    cost.backward()\n",
    "    optimizer.step()\n",
    "    \n",
    "    if epoch % 100 == 0:\n",
    "        print('Epoch {:4d}/{} Cost: {:.6f}'.format(\n",
    "          epoch, nb_epochs, cost.item()\n",
    "      ))"
   ]
  },
  {
   "cell_type": "code",
   "execution_count": null,
   "id": "35cb3eea",
   "metadata": {},
   "outputs": [],
   "source": []
  }
 ],
 "metadata": {
  "kernelspec": {
   "display_name": "Python 3 (ipykernel)",
   "language": "python",
   "name": "python3"
  },
  "language_info": {
   "codemirror_mode": {
    "name": "ipython",
    "version": 3
   },
   "file_extension": ".py",
   "mimetype": "text/x-python",
   "name": "python",
   "nbconvert_exporter": "python",
   "pygments_lexer": "ipython3",
   "version": "3.9.7"
  }
 },
 "nbformat": 4,
 "nbformat_minor": 5
}
