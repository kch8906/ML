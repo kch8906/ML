{
 "cells": [
  {
   "cell_type": "code",
   "execution_count": 1,
   "id": "a7855b10",
   "metadata": {},
   "outputs": [],
   "source": [
    "import torch\n",
    "import torch.nn as nn\n",
    "import torch.nn.functional as F"
   ]
  },
  {
   "cell_type": "code",
   "execution_count": 2,
   "id": "c2bf88bf",
   "metadata": {},
   "outputs": [],
   "source": [
    "from torch.utils.data import TensorDataset \n",
    "from torch.utils.data import DataLoader "
   ]
  },
  {
   "cell_type": "code",
   "execution_count": 3,
   "id": "adf4476f",
   "metadata": {},
   "outputs": [],
   "source": [
    "x_train  =  torch.FloatTensor([[73,  80,  75], \n",
    "                               [93,  88,  93], \n",
    "                               [89,  91,  90], \n",
    "                               [96,  98,  100],   \n",
    "                               [73,  66,  70]])  \n",
    "y_train  =  torch.FloatTensor([[152],  [185],  [180],  [196],  [142]])"
   ]
  },
  {
   "cell_type": "code",
   "execution_count": 4,
   "id": "192ff4c7",
   "metadata": {},
   "outputs": [],
   "source": [
    "dataset = TensorDataset(x_train, y_train)"
   ]
  },
  {
   "cell_type": "code",
   "execution_count": 5,
   "id": "c2347cfe",
   "metadata": {},
   "outputs": [],
   "source": [
    "dataloader = DataLoader(dataset, batch_size=2, shuffle=True)"
   ]
  },
  {
   "cell_type": "code",
   "execution_count": 6,
   "id": "0c06a891",
   "metadata": {},
   "outputs": [],
   "source": [
    "model = nn.Linear(3,1)\n",
    "optimizer = torch.optim.SGD(model.parameters(), lr=1e-5)"
   ]
  },
  {
   "cell_type": "code",
   "execution_count": 11,
   "id": "ca8d468e",
   "metadata": {},
   "outputs": [
    {
     "name": "stdout",
     "output_type": "stream",
     "text": [
      "Epoch    0/20 Batch 1/3 Cost: 0.066131\n",
      "Epoch    0/20 Batch 2/3 Cost: 0.838366\n",
      "Epoch    0/20 Batch 3/3 Cost: 0.301514\n",
      "Epoch    1/20 Batch 1/3 Cost: 0.023025\n",
      "Epoch    1/20 Batch 2/3 Cost: 0.032140\n",
      "Epoch    1/20 Batch 3/3 Cost: 1.883666\n",
      "Epoch    2/20 Batch 1/3 Cost: 0.670289\n",
      "Epoch    2/20 Batch 2/3 Cost: 0.351663\n",
      "Epoch    2/20 Batch 3/3 Cost: 0.015928\n",
      "Epoch    3/20 Batch 1/3 Cost: 0.770132\n",
      "Epoch    3/20 Batch 2/3 Cost: 0.068957\n",
      "Epoch    3/20 Batch 3/3 Cost: 0.140980\n",
      "Epoch    4/20 Batch 1/3 Cost: 0.863803\n",
      "Epoch    4/20 Batch 2/3 Cost: 0.107912\n",
      "Epoch    4/20 Batch 3/3 Cost: 0.116752\n",
      "Epoch    5/20 Batch 1/3 Cost: 0.015615\n",
      "Epoch    5/20 Batch 2/3 Cost: 0.024384\n",
      "Epoch    5/20 Batch 3/3 Cost: 1.873752\n",
      "Epoch    6/20 Batch 1/3 Cost: 0.180566\n",
      "Epoch    6/20 Batch 2/3 Cost: 0.701192\n",
      "Epoch    6/20 Batch 3/3 Cost: 0.344755\n",
      "Epoch    7/20 Batch 1/3 Cost: 0.052108\n",
      "Epoch    7/20 Batch 2/3 Cost: 0.863358\n",
      "Epoch    7/20 Batch 3/3 Cost: 0.061467\n",
      "Epoch    8/20 Batch 1/3 Cost: 0.783902\n",
      "Epoch    8/20 Batch 2/3 Cost: 0.156844\n",
      "Epoch    8/20 Batch 3/3 Cost: 0.000026\n",
      "Epoch    9/20 Batch 1/3 Cost: 0.098713\n",
      "Epoch    9/20 Batch 2/3 Cost: 0.915128\n",
      "Epoch    9/20 Batch 3/3 Cost: 0.014010\n",
      "Epoch   10/20 Batch 1/3 Cost: 0.020604\n",
      "Epoch   10/20 Batch 2/3 Cost: 0.101966\n",
      "Epoch   10/20 Batch 3/3 Cost: 1.823135\n",
      "Epoch   11/20 Batch 1/3 Cost: 0.641248\n",
      "Epoch   11/20 Batch 2/3 Cost: 0.376151\n",
      "Epoch   11/20 Batch 3/3 Cost: 0.016870\n",
      "Epoch   12/20 Batch 1/3 Cost: 0.086410\n",
      "Epoch   12/20 Batch 2/3 Cost: 0.821433\n",
      "Epoch   12/20 Batch 3/3 Cost: 0.069805\n",
      "Epoch   13/20 Batch 1/3 Cost: 0.770778\n",
      "Epoch   13/20 Batch 2/3 Cost: 0.064200\n",
      "Epoch   13/20 Batch 3/3 Cost: 0.139392\n",
      "Epoch   14/20 Batch 1/3 Cost: 0.869392\n",
      "Epoch   14/20 Batch 2/3 Cost: 0.115931\n",
      "Epoch   14/20 Batch 3/3 Cost: 0.016759\n",
      "Epoch   15/20 Batch 1/3 Cost: 0.041921\n",
      "Epoch   15/20 Batch 2/3 Cost: 0.916732\n",
      "Epoch   15/20 Batch 3/3 Cost: 0.008655\n",
      "Epoch   16/20 Batch 1/3 Cost: 0.130976\n",
      "Epoch   16/20 Batch 2/3 Cost: 0.010493\n",
      "Epoch   16/20 Batch 3/3 Cost: 1.715374\n",
      "Epoch   17/20 Batch 1/3 Cost: 0.394663\n",
      "Epoch   17/20 Batch 2/3 Cost: 0.119543\n",
      "Epoch   17/20 Batch 3/3 Cost: 1.532698\n",
      "Epoch   18/20 Batch 1/3 Cost: 0.480069\n",
      "Epoch   18/20 Batch 2/3 Cost: 0.676029\n",
      "Epoch   18/20 Batch 3/3 Cost: 0.076700\n",
      "Epoch   19/20 Batch 1/3 Cost: 0.694391\n",
      "Epoch   19/20 Batch 2/3 Cost: 0.211238\n",
      "Epoch   19/20 Batch 3/3 Cost: 0.032096\n",
      "Epoch   20/20 Batch 1/3 Cost: 0.008420\n",
      "Epoch   20/20 Batch 2/3 Cost: 0.828259\n",
      "Epoch   20/20 Batch 3/3 Cost: 0.184107\n"
     ]
    }
   ],
   "source": [
    "nb_epochs = 20\n",
    "for epoch in range(nb_epochs + 1):\n",
    "    for batch_idx, samples in enumerate(dataloader):\n",
    "#         print(batch_idx)\n",
    "#         print(samples)\n",
    "        \n",
    "        x_train, y_train = samples\n",
    "        \n",
    "        predition = model(x_train)\n",
    "        cost = F.mse_loss(predition, y_train)\n",
    "        \n",
    "        optimizer.zero_grad()\n",
    "        cost.backward()\n",
    "        optimizer.step()\n",
    "        \n",
    "        print('Epoch {:4d}/{} Batch {}/{} Cost: {:.6f}'.format(\n",
    "        epoch, nb_epochs, batch_idx+1, len(dataloader),\n",
    "        cost.item()\n",
    "        ))\n",
    "        "
   ]
  },
  {
   "cell_type": "code",
   "execution_count": 12,
   "id": "b77aa400",
   "metadata": {},
   "outputs": [
    {
     "name": "stdout",
     "output_type": "stream",
     "text": [
      "훈련 후 입력이 73, 80, 75일 때의 예측값 : tensor([[150.7122]], grad_fn=<AddmmBackward0>)\n"
     ]
    }
   ],
   "source": [
    "new_var =  torch.FloatTensor([[73, 80, 75]]) \n",
    "pred_y = model(new_var) \n",
    "print(\"훈련 후 입력이 73, 80, 75일 때의 예측값 :\", pred_y) "
   ]
  },
  {
   "cell_type": "code",
   "execution_count": null,
   "id": "ac329a03",
   "metadata": {},
   "outputs": [],
   "source": []
  }
 ],
 "metadata": {
  "kernelspec": {
   "display_name": "Python 3 (ipykernel)",
   "language": "python",
   "name": "python3"
  },
  "language_info": {
   "codemirror_mode": {
    "name": "ipython",
    "version": 3
   },
   "file_extension": ".py",
   "mimetype": "text/x-python",
   "name": "python",
   "nbconvert_exporter": "python",
   "pygments_lexer": "ipython3",
   "version": "3.9.7"
  }
 },
 "nbformat": 4,
 "nbformat_minor": 5
}
