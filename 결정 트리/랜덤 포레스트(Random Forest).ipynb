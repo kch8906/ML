{
 "cells": [
  {
   "cell_type": "markdown",
   "id": "be2c456b",
   "metadata": {},
   "source": [
    "### 랜덤 포레스트(Random Forest)\n",
    "- 결정 트리가 모여 랜덤 포레스트를 구성한다.\n",
    "- 훈련데이터에 오버피팅이 되는 경향이 있는 결정 트리의 단점을 랜덤 포레스트로 만들면 오버피팅되는 단점을 해결 할 수 있다.\n",
    "\n",
    "Feature가 30개라고 할 때 30개의 Feature 중 랜덤으로 5개의 Feature만을 사용해서 하나의 트리를 만들고 또 랜덤으로 5개를 선택해서 또다른 결정트리를 만들어서 모인 것들이 랜덤 포레스트가 된다. \n",
    "\n",
    "랜덤하게 만들어진 결정 트리마다 예측값을 통합하거나 결과를 합치는 방식을 앙상블(Ensemble)이라고 한다."
   ]
  },
  {
   "cell_type": "markdown",
   "id": "b5583408",
   "metadata": {},
   "source": [
    "### 파라미터\n",
    "\n",
    "#### n_estimators : 랜덤 포레스트 안의 결정 트리 갯수\n",
    "\n",
    "n_estimators는 클수록 좋다. 결정 트리가 많을 수록 더 깔끔한 Decision Boundary가 나오지만 그만큼 메모리와 훈련시간이 증가한다.\n",
    "\n",
    "#### max_features : 무작위로 선택할 Feature의 개수"
   ]
  },
  {
   "cell_type": "code",
   "execution_count": null,
   "id": "f8143f50",
   "metadata": {},
   "outputs": [],
   "source": []
  }
 ],
 "metadata": {
  "kernelspec": {
   "display_name": "Python 3 (ipykernel)",
   "language": "python",
   "name": "python3"
  },
  "language_info": {
   "codemirror_mode": {
    "name": "ipython",
    "version": 3
   },
   "file_extension": ".py",
   "mimetype": "text/x-python",
   "name": "python",
   "nbconvert_exporter": "python",
   "pygments_lexer": "ipython3",
   "version": "3.9.7"
  }
 },
 "nbformat": 4,
 "nbformat_minor": 5
}
