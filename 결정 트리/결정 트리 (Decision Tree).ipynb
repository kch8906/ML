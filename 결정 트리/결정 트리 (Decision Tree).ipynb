{
 "cells": [
  {
   "cell_type": "markdown",
   "id": "d729c92c",
   "metadata": {},
   "source": [
    "### 결정 트리\n",
    "- 분류(Classfication)와 회귀(Regression) 모두 가능한 지도 학습 모델 중 하나\n",
    "- 스무고개 하듯이 예 / 아니오 질문을 이어가며 학습"
   ]
  },
  {
   "cell_type": "markdown",
   "id": "7c08303c",
   "metadata": {},
   "source": [
    "### 가지치기(Pruning)\n",
    "- 오버피팅을 막기위한 전략, 가지가 너무 많다면 오버피팅이라고 볼 수 있다.\n",
    "- 최대 깊이나 터미널 노드의 최대 개수, 혹은 한 노드가 분할하기 위한 최소 데이터 수를 제한하는 것"
   ]
  },
  {
   "cell_type": "markdown",
   "id": "83501d45",
   "metadata": {},
   "source": [
    "### 불순도(Impurity)\n",
    "- 해당 범주 안에 서로 다른 데이터가 얼마나 섞여 있는지를 뜻함"
   ]
  },
  {
   "cell_type": "markdown",
   "id": "ced34e74",
   "metadata": {},
   "source": [
    "### 엔트로피(Entropy)\n",
    "- 불순도(Impurity)를 수치적으로 나타낸 척도.\n",
    "- 엔트로피가 높다는 것은 불순도가 높고, 낮으면 불순도가 낮다\n",
    "- 엔트로피가 1이면 불순도 최대, 0이면 최소\n",
    "\n",
    "###  $Entropy = -\\sum_{i}(p_i)log_2(p_i)$\n",
    "$p_i$ = 한 영역 안에 존재하는 데이터 가운데 범주 i에 속하는 데이터 비율"
   ]
  },
  {
   "cell_type": "markdown",
   "id": "bedc9b87",
   "metadata": {},
   "source": [
    "###  정보 획득 (Information gain)\n",
    "엔트로피가 1인상태에서 0.7인 상태로 바뀌었다면 정보 획득은 0.3이다. 분기 이전의 엔트로피에서 분기 이후의 엔트로피를 뺀 수치를 정보 획득이라 한다.\n",
    "\n",
    "#### information gain = entropy(parent) - [weighted average]entropy(children)\n",
    "entropy(parent)는 분기 이전의 엔트로피이고, entropy(children)은 분기 이후 엔트로피 이다. [weighted average]entropy(children)은 entropy(children)의 가중 평균을 뜻한다\n",
    "\n",
    "- 결정 트리 알고리즘은 정보 획들을 최대화하는 방향으로 학습이 진행된다"
   ]
  },
  {
   "cell_type": "code",
   "execution_count": 2,
   "id": "1cc5eaf8",
   "metadata": {},
   "outputs": [],
   "source": [
    "from sklearn.tree import DecisionTreeClassifier\n",
    "from sklearn.datasets import load_breast_cancer\n",
    "from sklearn.model_selection import train_test_split"
   ]
  },
  {
   "cell_type": "code",
   "execution_count": 3,
   "id": "4d80cb6a",
   "metadata": {},
   "outputs": [
    {
     "name": "stdout",
     "output_type": "stream",
     "text": [
      "훈련 세트 정확도: 1.000\n",
      "테스트 세트 정확도: 0.937\n"
     ]
    }
   ],
   "source": [
    "cancer = load_breast_cancer()\n",
    "X_train, X_test, y_train, y_test = train_test_split(cancer.data, cancer.target,\n",
    "                                                    stratify=cancer.target, random_state=42)\n",
    "tree = DecisionTreeClassifier(random_state=0)\n",
    "tree.fit(X_train, y_train)\n",
    "print('훈련 세트 정확도: {:.3f}'.format(tree.score(X_train, y_train)))\n",
    "print('테스트 세트 정확도: {:.3f}'.format(tree.score(X_test, y_test)))"
   ]
  },
  {
   "cell_type": "markdown",
   "id": "3d2f1610",
   "metadata": {},
   "source": [
    "결정 트리의 default는 max_depth, min_sample_split 제한이 없으므로 한 범주에 한 종류의 데이터가 남을 때까지 가지를 친다"
   ]
  },
  {
   "cell_type": "code",
   "execution_count": 4,
   "id": "4b3d2aa1",
   "metadata": {},
   "outputs": [
    {
     "name": "stdout",
     "output_type": "stream",
     "text": [
      "훈련 세트 정확도: 0.988\n",
      "테스트 세트 정확도: 0.951\n"
     ]
    }
   ],
   "source": [
    "tree = DecisionTreeClassifier(max_depth=4, random_state=0)\n",
    "tree.fit(X_train, y_train)\n",
    "print('훈련 세트 정확도: {:.3f}'.format(tree.score(X_train, y_train)))\n",
    "print('테스트 세트 정확도: {:.3f}'.format(tree.score(X_test, y_test)))"
   ]
  },
  {
   "cell_type": "markdown",
   "id": "78714d12",
   "metadata": {},
   "source": [
    "max_depth=4로 설정해주면 오버피팅을 막아 훈련 세트 정확도는 아까보다 떨어지지만 테스트 세트 정확도가 높아진다."
   ]
  },
  {
   "cell_type": "code",
   "execution_count": null,
   "id": "9a00041f",
   "metadata": {},
   "outputs": [],
   "source": []
  }
 ],
 "metadata": {
  "kernelspec": {
   "display_name": "Python 3 (ipykernel)",
   "language": "python",
   "name": "python3"
  },
  "language_info": {
   "codemirror_mode": {
    "name": "ipython",
    "version": 3
   },
   "file_extension": ".py",
   "mimetype": "text/x-python",
   "name": "python",
   "nbconvert_exporter": "python",
   "pygments_lexer": "ipython3",
   "version": "3.9.7"
  }
 },
 "nbformat": 4,
 "nbformat_minor": 5
}
